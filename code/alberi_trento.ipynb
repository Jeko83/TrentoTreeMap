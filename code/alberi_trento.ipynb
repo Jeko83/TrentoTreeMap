{
 "cells": [
  {
   "cell_type": "code",
   "execution_count": 1,
   "metadata": {},
   "outputs": [
    {
     "name": "stderr",
     "output_type": "stream",
     "text": [
      "/home/napo/.local/lib/python3.9/site-packages/geopandas/_compat.py:106: UserWarning: The Shapely GEOS version (3.9.0-CAPI-1.16.2) is incompatible with the GEOS version PyGEOS was compiled with (3.9.1-CAPI-1.14.2). Conversions between both will be slow.\n",
      "  warnings.warn(\n"
     ]
    }
   ],
   "source": [
    "import geopandas as gpd\n",
    "import os\n",
    "import warnings\n",
    "warnings.filterwarnings('ignore')"
   ]
  },
  {
   "cell_type": "code",
   "execution_count": 2,
   "metadata": {},
   "outputs": [],
   "source": [
    "source_data = \"..\" + os.sep + \"data\" + os.sep + \"alberi_trento.zip\"\n",
    "output_excel = \"..\" + os.sep + \"data\" + os.sep + \"alberi_trento.xls\"\n",
    "output_geojson = \"..\" + os.sep + \"data\" + os.sep + \"alberi_trento.geojson\""
   ]
  },
  {
   "cell_type": "code",
   "execution_count": 4,
   "metadata": {},
   "outputs": [],
   "source": [
    "data_trees = gpd.read_file(source_data)"
   ]
  },
  {
   "cell_type": "code",
   "execution_count": 5,
   "metadata": {},
   "outputs": [],
   "source": [
    "# creazione colonne longitudine e latitudine in WGS84\n",
    "data_trees['longitude'] = data_trees.to_crs(epsg=4326).centroid.x\n",
    "data_trees['latitude'] = data_trees.to_crs(epsg=4326).centroid.y"
   ]
  },
  {
   "cell_type": "code",
   "execution_count": 6,
   "metadata": {},
   "outputs": [],
   "source": [
    "data_trees = data_trees.to_crs(epsg=4346)"
   ]
  },
  {
   "cell_type": "code",
   "execution_count": 7,
   "metadata": {},
   "outputs": [],
   "source": [
    "data_trees.to_crs(4326).to_file(output_geojson,driver=\"GeoJSON\")"
   ]
  },
  {
   "cell_type": "code",
   "execution_count": 8,
   "metadata": {},
   "outputs": [],
   "source": [
    "del data_trees['geometry']"
   ]
  },
  {
   "cell_type": "code",
   "execution_count": 9,
   "metadata": {},
   "outputs": [],
   "source": [
    "data_trees.to_excel(output_excel)"
   ]
  },
  {
   "cell_type": "code",
   "execution_count": 16,
   "metadata": {},
   "outputs": [
    {
     "data": {
      "text/plain": [
       "array(['Pianta viva', 'Ceppaia', 'Viva', 'Pianta non gestita',\n",
       "       'Pianta abbattuta', 'Pianta morta', 'Posto libero'], dtype=object)"
      ]
     },
     "execution_count": 16,
     "metadata": {},
     "output_type": "execute_result"
    }
   ],
   "source": [
    "data_trees.stato.unique()"
   ]
  },
  {
   "cell_type": "code",
   "execution_count": 12,
   "metadata": {},
   "outputs": [
    {
     "data": {
      "text/plain": [
       "array([None, 'Acer', 'Cupressus', 'Quercus', 'Sophora', 'Tilia', 'Fagus',\n",
       "       'Carpinus', 'Sorbus', 'Prunus', 'Fraxinus', 'Parrotia', 'Ostrya',\n",
       "       'Celtis', 'Robinia', 'Betula', 'Picea', 'Pinus', 'Pyrus',\n",
       "       'Liriodendron', 'Juglans', 'Acacia', 'Crataegus', 'Koelreuteria',\n",
       "       'Abies', 'Platanus', 'Corylus', 'Morus', 'Diospyros', 'Malus',\n",
       "       'Populus', 'Ulmus', 'Magnolia', 'Cercis', 'Metasequoia', 'Alnus',\n",
       "       'Salix', 'Thuja', 'Sequoia', 'Cedrus', 'Aesculus', 'Catalpa',\n",
       "       'Nerium', 'Lagerstroemia', 'Liquidambar', 'Taxodium', 'Ilex',\n",
       "       'Sambucus', 'Sequoiadendron', 'Ginkgo', 'Ligustrum', 'Ficus',\n",
       "       'Pterocarya', 'Olea', 'Chamaecyparis', 'Hibiscus', 'Pseudotsuga',\n",
       "       'Paulownia', 'Ailanthus', 'Cornus', 'Eriobotrya', 'Gleditsia',\n",
       "       'Laburnum', 'Larix', 'Laurus', 'Rhus', 'Taxus', 'Davidia',\n",
       "       'Clerodendrum', 'Photinia', 'Zelkova', 'Eucalyptus', 'Arbutus',\n",
       "       'Albizia', 'Tamarix', 'Maclura', 'Torreya', 'Juniperus',\n",
       "       'Calocedrus', 'Jasminum', 'Wisteria', 'Viburnum', 'Berberis',\n",
       "       'Punica', 'Hedera', 'Buxus', 'Lonicera', 'Philadelphus',\n",
       "       'Parthenocissus', 'Pittosporum', 'Elaeagnus', 'Spiraea',\n",
       "       'Osmanthus', 'Rhododendron', 'Calycanthus', 'Zanthoxylum',\n",
       "       'Syringa', 'Forsythia', 'Aucuba', 'Deutzia'], dtype=object)"
      ]
     },
     "execution_count": 12,
     "metadata": {},
     "output_type": "execute_result"
    }
   ],
   "source": [
    "data_trees.genere.unique()"
   ]
  }
 ],
 "metadata": {
  "interpreter": {
   "hash": "e7370f93d1d0cde622a1f8e1c04877d8463912d04d973331ad4851f04de6915a"
  },
  "kernelspec": {
   "display_name": "Python 3.9.7 64-bit",
   "language": "python",
   "name": "python3"
  },
  "language_info": {
   "codemirror_mode": {
    "name": "ipython",
    "version": 3
   },
   "file_extension": ".py",
   "mimetype": "text/x-python",
   "name": "python",
   "nbconvert_exporter": "python",
   "pygments_lexer": "ipython3",
   "version": "3.9.7"
  },
  "orig_nbformat": 4
 },
 "nbformat": 4,
 "nbformat_minor": 2
}
