{
 "cells": [
  {
   "cell_type": "code",
   "execution_count": 19,
   "metadata": {},
   "outputs": [],
   "source": [
    "import pandas as pd\n",
    "from random import randrange\n",
    "import math\n",
    "import difflib"
   ]
  },
  {
   "cell_type": "code",
   "execution_count": 20,
   "metadata": {},
   "outputs": [],
   "source": [
    "data_trees = pd.read_excel('alberi_trento.xls')\n",
    "species_list_xlsx = pd.read_excel('Eco_Species_List.xlsx')"
   ]
  },
  {
   "cell_type": "code",
   "execution_count": 21,
   "metadata": {},
   "outputs": [
    {
     "data": {
      "text/plain": [
       "Index(['Unnamed: 0', 'id_zril', 'code_istat', 'zona', 'area', 'obj_id', 'tp',\n",
       "       'ts', 'codice', 'data_ini', 'data_fine', 'data_agg', 'modif_da', 'note',\n",
       "       'foto', 'pt', 'genere', 'specie', 'varieta', 'h_m', 'diam_tronc',\n",
       "       'diam_chiom', 'data_abbat', 'stato', 'longitude', 'latitude'],\n",
       "      dtype='object')"
      ]
     },
     "execution_count": 21,
     "metadata": {},
     "output_type": "execute_result"
    }
   ],
   "source": [
    "data_trees.columns"
   ]
  },
  {
   "cell_type": "code",
   "execution_count": 22,
   "metadata": {},
   "outputs": [
    {
     "data": {
      "text/plain": [
       "array(['Cycadopsida', 'Filicopsida', 'Ginkgoopsida', ..., 'Zygia',\n",
       "       'Zygia longifolia', 'Zygophyllum'], dtype=object)"
      ]
     },
     "execution_count": 22,
     "metadata": {},
     "output_type": "execute_result"
    }
   ],
   "source": [
    "# def removeWhitespace(name):\n",
    "#     while name[-1:]==' ':\n",
    "#         name = name[:-1]\n",
    "#     while name[0:1]==' ':\n",
    "#         name = name[1:]\n",
    "#     return name\n",
    "\n",
    "# species_list_xlsx['Scientific Name'] = species_list_xlsx.apply(lambda x : specFixer(x['Scientific Name']), axis=1)\n",
    "species_list = species_list_xlsx['Scientific Name'].values\n",
    "species_list"
   ]
  },
  {
   "cell_type": "code",
   "execution_count": 23,
   "metadata": {},
   "outputs": [
    {
     "name": "stdout",
     "output_type": "stream",
     "text": [
      "True\n"
     ]
    }
   ],
   "source": [
    "print('Platanus x acerifolia' in species_list)"
   ]
  },
  {
   "cell_type": "code",
   "execution_count": 24,
   "metadata": {},
   "outputs": [
    {
     "name": "stderr",
     "output_type": "stream",
     "text": [
      "C:\\Users\\Giacomo\\AppData\\Local\\Temp\\ipykernel_23708\\1397991911.py:4: FutureWarning: In a future version of pandas all arguments of DataFrame.drop except for the argument 'labels' will be keyword-only.\n",
      "  data_trees = data_trees.drop('genere',1)\n",
      "C:\\Users\\Giacomo\\AppData\\Local\\Temp\\ipykernel_23708\\1397991911.py:5: FutureWarning: In a future version of pandas all arguments of DataFrame.drop except for the argument 'labels' will be keyword-only.\n",
      "  data_trees = data_trees.drop('specie',1)\n",
      "C:\\Users\\Giacomo\\AppData\\Local\\Temp\\ipykernel_23708\\1397991911.py:6: FutureWarning: In a future version of pandas all arguments of DataFrame.drop except for the argument 'labels' will be keyword-only.\n",
      "  data_trees = data_trees.drop('varieta',1)\n"
     ]
    }
   ],
   "source": [
    "#crea colonna della specie con nome scientifico, data da genere + specie, e pulisce le entries vuote. Droppa anche la colonna varieta' che non ci e' utile\n",
    "\n",
    "data_trees['Species'] = data_trees['genere'] + ' ' + data_trees['specie']\n",
    "data_trees = data_trees.drop('genere',1)\n",
    "data_trees = data_trees.drop('specie',1)\n",
    "data_trees = data_trees.drop('varieta',1)\n",
    "data_trees = data_trees.dropna(subset=['Species'])"
   ]
  },
  {
   "cell_type": "code",
   "execution_count": 25,
   "metadata": {},
   "outputs": [
    {
     "data": {
      "text/plain": [
       "array(['Pianta viva', 'Ceppaia', 'Pianta abbattuta', 'Pianta non gestita',\n",
       "       'Viva', 'Pianta morta', 'Posto libero'], dtype=object)"
      ]
     },
     "execution_count": 25,
     "metadata": {},
     "output_type": "execute_result"
    }
   ],
   "source": [
    "#print di ogni stato delle piante\n",
    "\n",
    "data_trees['stato'].unique()"
   ]
  },
  {
   "cell_type": "code",
   "execution_count": 26,
   "metadata": {},
   "outputs": [
    {
     "data": {
      "text/plain": [
       "array(['Pianta viva', 'Pianta non gestita', 'Viva'], dtype=object)"
      ]
     },
     "execution_count": 26,
     "metadata": {},
     "output_type": "execute_result"
    }
   ],
   "source": [
    "#drop di alberi con altezza maggiore di 100m e drop di entries con piante morte ecc.\n",
    "\n",
    "data_trees = data_trees.drop(data_trees[data_trees['h_m'] >=100].index)\n",
    "data_trees = data_trees.drop(data_trees[data_trees['diam_tronc'] >=500].index)\n",
    "data_trees = data_trees.drop(data_trees[(data_trees['stato'] != 'Pianta viva') & (data_trees['stato'] != 'Viva') & (data_trees['stato'] != 'Pianta non gestita')].index)\n",
    "\n",
    "data_trees['stato'].unique()"
   ]
  },
  {
   "cell_type": "code",
   "execution_count": 27,
   "metadata": {},
   "outputs": [],
   "source": [
    "#drop di entries con piante morte ecc. tramite il campo 'note'\n",
    "\n",
    "data_trees = data_trees.drop(data_trees[(data_trees['note'] == 'ALB MORTA') | (data_trees['note'] == 'Pianta segnata come eseguita ma in realtà non è stata fatta') | (data_trees['note'] == 'MORTA ALBERATE') |(data_trees['note'] == 'MORTA')].index)"
   ]
  },
  {
   "cell_type": "code",
   "execution_count": 28,
   "metadata": {},
   "outputs": [],
   "source": [
    "#Pulisce le specie dai suffissi spp. o simili, e pulisce gli spazi bianchi a inizio nome + fine nome.\n",
    "#Cerca di sostituire le specie scritte male / sbagliate con quelle giuste facendo un confronto con le piu' simili in una lista di specie presa direttamente dal sito di ITreeTools.\n",
    "\n",
    "open(\"Substitute species.txt\", \"w\").close()\n",
    "\n",
    "def specFixer(name):\n",
    "    if(name[-4:] == 'spp.'):\n",
    "        name = name[:-4]\n",
    "    elif(name[-3:] == 'spp' or name[-3:] == 'sp.'):\n",
    "        name = name[:-3]\n",
    "    elif(name[-2:] == 'sp'):\n",
    "        name = name[:-2]\n",
    "    while name[-1:]==' ':\n",
    "        name = name[:-1]\n",
    "    while name[0:1]==' ':\n",
    "        name = name[1:]\n",
    "    if(name not in species_list):\n",
    "        f = open(\"Substitute species.txt\", \"a\")\n",
    "        best_match = difflib.get_close_matches(name,species_list,1)\n",
    "        #print(name + ' -- ' + str(best_match))\n",
    "        if(best_match != []):\n",
    "            best_match = best_match[0]\n",
    "            score = difflib.SequenceMatcher(None, name, best_match).ratio()\n",
    "            f.write(name + \"  -->  \" + best_match + \"\\nScore: \" +  str(score) + '\\n\\n')\n",
    "            name = best_match\n",
    "        else:\n",
    "            f.write(name + \"  -->  None \\n\\n\")\n",
    "        f.close()\n",
    "    return name\n",
    "\n",
    "data_trees['Species'] = data_trees.apply(lambda x : specFixer(x['Species']), axis=1)\n"
   ]
  },
  {
   "cell_type": "code",
   "execution_count": 29,
   "metadata": {},
   "outputs": [
    {
     "data": {
      "text/plain": [
       "count    11119.000000\n",
       "mean         7.940939\n",
       "std          4.966198\n",
       "min          0.000000\n",
       "25%          4.500000\n",
       "50%          6.000000\n",
       "75%         10.000000\n",
       "max         60.000000\n",
       "Name: h_m, dtype: float64"
      ]
     },
     "execution_count": 29,
     "metadata": {},
     "output_type": "execute_result"
    }
   ],
   "source": [
    "#media altezza alberi nel dataset\n",
    "\n",
    "data_trees['h_m'].describe()"
   ]
  },
  {
   "cell_type": "code",
   "execution_count": 30,
   "metadata": {},
   "outputs": [
    {
     "data": {
      "text/plain": [
       "count    11028.000000\n",
       "mean        28.037384\n",
       "std         34.273040\n",
       "min          0.000000\n",
       "25%         12.000000\n",
       "50%         20.000000\n",
       "75%         35.000000\n",
       "max       2515.000000\n",
       "Name: diam_tronc, dtype: float64"
      ]
     },
     "execution_count": 30,
     "metadata": {},
     "output_type": "execute_result"
    }
   ],
   "source": [
    "#media spessore tronco alberi nel dataset\n",
    "\n",
    "data_trees['diam_tronc'].describe()"
   ]
  },
  {
   "cell_type": "code",
   "execution_count": 31,
   "metadata": {},
   "outputs": [
    {
     "data": {
      "text/plain": [
       "count    11000.000000\n",
       "mean         5.255227\n",
       "std          3.542011\n",
       "min          0.000000\n",
       "25%          3.000000\n",
       "50%          4.000000\n",
       "75%          7.000000\n",
       "max         26.000000\n",
       "Name: diam_chiom, dtype: float64"
      ]
     },
     "execution_count": 31,
     "metadata": {},
     "output_type": "execute_result"
    }
   ],
   "source": [
    "#media diametro chioma alberi nel dataset\n",
    "\n",
    "data_trees['diam_chiom'].describe()"
   ]
  },
  {
   "cell_type": "code",
   "execution_count": 32,
   "metadata": {},
   "outputs": [],
   "source": [
    "#prende il nome di ogni specie, fa le stime sui dati di SOLO quella specie e applica i valori di MEDIA ad entries con lo stesso nome specie ma prive di dati utili. Nel caso non ci fossero abbastanza dati, inseriesce default MEDIA altezza ecc. preso da intero dataset.\n",
    "#Log dei dati utili per ogni specie sul file \"analyzeDataperSpecies.txt\".\n",
    "#Percentuale mancante chioma presa randomicamente da 1% a 35%\n",
    "#Base della chioma settata a 70% altezza totale albero.\n",
    "#valori fillati : altezza albero, diametro chioma, spessore tronco, percentuale mancante chioma e base della chioma.\n",
    "\n",
    "specieNames = data_trees.Species.unique()\n",
    "\n",
    "open(\"analyzeDataperSpecies.txt\", \"w\").close()\n",
    "\n",
    "rand_crown = ['1% - 5%','5% - 10%','10% - 15%', '15% - 20%', '20% - 25%', '25% - 30%', '30% - 35%']\n",
    "\n",
    "zeros = [float(0),float(0.0)]\n",
    "\n",
    "def dataFixer(item,heightMean,widthMean,crownWidthMean,species):\n",
    "    if item['Species'] == species:\n",
    "        if math.isnan(item['h_m']) or (item['h_m'] in zeros):\n",
    "            item['h_m'] = heightMean\n",
    "        if math.isnan(item['diam_tronc']) or (item['diam_tronc'] in zeros):\n",
    "            item['diam_tronc'] = widthMean\n",
    "        if math.isnan(item['diam_chiom']) or (item['diam_chiom'] in zeros):\n",
    "            item['diam_chiom'] = crownWidthMean\n",
    "        item['crown_base_height'] = float(item['h_m']) * 0.7\n",
    "        count = randrange(0, 7)\n",
    "        item['percent_crown_missing'] = rand_crown[count]\n",
    "    #print(item.h_m)\n",
    "    return item\n",
    "\n",
    "for x in specieNames:\n",
    "    contained_values_by_species = pd.DataFrame(data_trees[data_trees['Species'].str.contains(x)])\n",
    "    heightMean = contained_values_by_species['h_m'].mean()\n",
    "    widthMean = contained_values_by_species['diam_tronc'].mean()\n",
    "    crownWidthMean = contained_values_by_species['diam_chiom'].mean()\n",
    "    if math.isnan(heightMean) or (heightMean in zeros):\n",
    "        heightMean = 7.95\n",
    "    if math.isnan(widthMean) or (widthMean in zeros):\n",
    "        widthMean = 28.23\n",
    "    if math.isnan(crownWidthMean) or (crownWidthMean in zeros):\n",
    "        crownWidthMean = 5.26\n",
    "    f = open(\"analyzeDataperSpecies.txt\", \"a\")\n",
    "    f.write(\"\\nAnalyzed species : \" + x + '\\n')\n",
    "    f.write(\"Occasions : \" + str(len(contained_values_by_species.index)) + '\\n')\n",
    "    f.write('Values : \\n' + str(contained_values_by_species['h_m'].describe()) + '\\n\\n' + str(contained_values_by_species['diam_tronc'].describe()) + '\\n\\n' + str(contained_values_by_species['diam_chiom'].describe()) + '\\n\\n')\n",
    "    f.write('Values to use :\\nheightMean=' + str(heightMean) + '\\nwidthMean=' + str(widthMean) + '\\ncrownWidthMean=' + str(crownWidthMean) + '\\n\\n\\n')\n",
    "    f.close()\n",
    "    data_trees = data_trees.apply(lambda y : dataFixer(y,heightMean,widthMean,crownWidthMean,x), axis=1)\n",
    "\n"
   ]
  },
  {
   "cell_type": "code",
   "execution_count": 34,
   "metadata": {},
   "outputs": [],
   "source": [
    "#creazione di una colonna ulteriore per la chioma in modo che itreetools non dia errori (clonata dai dati gia' esistenti)\n",
    "#Rinominazione colonna iniziale.\n",
    "\n",
    "data_trees['crown_N_S'] = data_trees['diam_chiom']\n",
    "data_trees['crown_total_height'] = data_trees['h_m']\n",
    "data_trees.rename(columns={'diam_chiom':'crown_E_O'},inplace=True)\n"
   ]
  },
  {
   "cell_type": "code",
   "execution_count": 36,
   "metadata": {},
   "outputs": [],
   "source": [
    "#salva dataFrame in un file excel 'xlsx'.\n",
    "\n",
    "data_trees.to_excel('modifiedDataset.xlsx')"
   ]
  }
 ],
 "metadata": {
  "interpreter": {
   "hash": "63fd5069d213b44bf678585dea6b12cceca9941eaf7f819626cde1f2670de90d"
  },
  "kernelspec": {
   "display_name": "Python 3.9.5 64-bit",
   "name": "python3"
  },
  "language_info": {
   "codemirror_mode": {
    "name": "ipython",
    "version": 3
   },
   "file_extension": ".py",
   "mimetype": "text/x-python",
   "name": "python",
   "nbconvert_exporter": "python",
   "pygments_lexer": "ipython3",
   "version": "3.9.10"
  },
  "orig_nbformat": 4
 },
 "nbformat": 4,
 "nbformat_minor": 2
}
